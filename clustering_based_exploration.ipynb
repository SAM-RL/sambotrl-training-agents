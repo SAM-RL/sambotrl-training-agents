{
 "cells": [
  {
   "cell_type": "code",
   "execution_count": null,
   "id": "b5919f98-8a3b-4341-a1e3-31df99095129",
   "metadata": {},
   "outputs": [],
   "source": [
    "## Clustering-based Exploration\n",
    "\n",
    "### Todo: Class for exploration strategy\n",
    "\n",
    "\n",
    "### Todo: Compare to random walk, lawn mowing\n",
    "\n",
    "\n",
    "### Todo: Visualization of clustering approach \n",
    "\n",
    "\n",
    "### Todo: Pseudocode\n",
    "\n",
    "\n",
    "### Todo: System-block Diagram"
   ]
  }
 ],
 "metadata": {
  "kernelspec": {
   "display_name": "Python 3 (ipykernel)",
   "language": "python",
   "name": "python3"
  },
  "language_info": {
   "codemirror_mode": {
    "name": "ipython",
    "version": 3
   },
   "file_extension": ".py",
   "mimetype": "text/x-python",
   "name": "python",
   "nbconvert_exporter": "python",
   "pygments_lexer": "ipython3",
   "version": "3.8.6"
  }
 },
 "nbformat": 4,
 "nbformat_minor": 5
}
