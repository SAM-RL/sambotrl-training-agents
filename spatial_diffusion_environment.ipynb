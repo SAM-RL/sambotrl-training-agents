{
 "cells": [
  {
   "cell_type": "code",
   "execution_count": 2,
   "id": "b128bd9f-0ff4-4d25-8262-f41b8bc36ace",
   "metadata": {
    "tags": []
   },
   "outputs": [],
   "source": [
    "## Testing environment\n",
    "\n",
    "## Todo: Environment class & independent source params\n",
    "\n",
    "## Todo: Animation for visualizing environment\n",
    "\n",
    "## Todo: Convex & non-convex field\n",
    "\n",
    "## Todo: Vectorized version of spatial diffusion field update"
   ]
  },
  {
   "cell_type": "code",
   "execution_count": 60,
   "id": "ae19dc4b-ecff-400d-a3c6-645d6c6aca20",
   "metadata": {
    "tags": []
   },
   "outputs": [],
   "source": [
    "import numpy as np\n",
    "import matplotlib.pyplot as plt"
   ]
  },
  {
   "cell_type": "code",
   "execution_count": 80,
   "id": "127a690d-7628-4821-a6d9-2a6e8784837f",
   "metadata": {
    "tags": []
   },
   "outputs": [],
   "source": [
    "DEFAULT_FIELD_PARAMS = [1.0, 1.0, 0, 0, 1, 0.25]\n",
    "\n",
    "class SpatialTemporalDiffusionField():\n",
    "    def __init__(self, pos=(50,50), map_size=100, field_size=40, field_max=25, n_timesteps=None, params=DEFAULT_FIELD_PARAMS):\n",
    "        # initialize field params\n",
    "        self.dx, self.dy, self.vx, self.vy, self.k, self.dt = params\n",
    "        self.field_size, self.field_max, self.map_size = field_size, field_max, map_size\n",
    "        self.snapshots = None\n",
    "        # generate field\n",
    "        field_hsize = field_size // 2\n",
    "        self.gaussian_field = self.generate_multivariate_gaussian_field(N=field_size)\n",
    "        self.field = np.zeros((map_size, map_size))\n",
    "        self.padded_field = np.zeros((3*map_size, 3*map_size))\n",
    "        x_start, x_end = map_size+pos[0]-field_hsize, map_size+pos[0]+field_hsize\n",
    "        y_start, y_end = map_size+pos[1]-field_hsize, map_size+pos[1]+field_hsize\n",
    "        self.padded_field[y_start:y_end, x_start:x_end]=self.gaussian_field\n",
    "        self.field = self.padded_field[map_size:map_size*2,map_size:map_size*2]\n",
    "        self.field = (self.field - np.min(self.field)) / (np.max(self.field)-np.min(self.field)) * self.field_max\n",
    "        # generate snapshots\n",
    "        if (n_timesteps is not None) and (n_timesteps > 0):\n",
    "            self.snapshots = np.zeros((n_timesteps,map_size,map_size))\n",
    "            self.snapshots[0] = self.field\n",
    "            for i in range(1, n_timesteps):\n",
    "                self.snapshots[i] = self.update_diffusion_field(self.snapshots[i-1])        \n",
    "    \n",
    "    def generate_multivariate_gaussian_field(self, N=40, mu=np.array([0.,0.]), sigma=np.array([[1.,0.],[0.,1.]])):\n",
    "        X = np.linspace(-2.8, 2.8, N)\n",
    "        Y = np.linspace(-2.8, 2.8, N)\n",
    "        X, Y = np.meshgrid(X, Y)\n",
    "        pos = np.empty(X.shape + (2,))\n",
    "        pos[:,:,0] = X\n",
    "        pos[:,:,1] = Y\n",
    "        n = mu.shape[0]\n",
    "        sigma_det, sigma_inv = np.linalg.det(sigma), np.linalg.inv(sigma)\n",
    "        N = np.sqrt((2*np.pi)**n * sigma_det)\n",
    "        fac = np.einsum('...k,kl,...l->...', pos-mu, sigma_inv, pos-mu)\n",
    "        return np.exp(-fac / 2) / N\n",
    "    \n",
    "    def update_diffusion_field(self, field):\n",
    "        updated_u = field.copy()\n",
    "        u_k = field.copy()\n",
    "        for i in range(1, field.shape[0] - 1):\n",
    "            for j in range(1, field.shape[1] - 1):\n",
    "                updated_u[j, i] = u_k[j, i] + self.k * (self.dt / self.dx ** 2) * \\\n",
    "                    ((u_k[j + 1, i] + u_k[j - 1, i] +\n",
    "                      u_k[j, i + 1] + u_k[j, i - 1] - 4 * u_k[j, i])) + \\\n",
    "                    self.vx * (self.dt / self.dx) * ((u_k[j + 1, i] - u_k[j, i])) + self.vy * (self.dt / self.dy) * \\\n",
    "                    (u_k[j, i + 1] - u_k[j, i])\n",
    "        return updated_u"
   ]
  },
  {
   "cell_type": "code",
   "execution_count": 102,
   "id": "51ddc137-3e04-4823-808d-333055b917f6",
   "metadata": {
    "tags": []
   },
   "outputs": [],
   "source": [
    "class SpatialTemporalDiffusionEnvironment():\n",
    "    def __init__(self, configs=[], size=100, use_snapshots=True, n_timesteps=300):\n",
    "        self.field_size = size\n",
    "        self.configs = configs\n",
    "        self.n_timesteps = n_timesteps\n",
    "        self.fields=[]\n",
    "        self.timestep = 0\n",
    "        for idx, config in enumerate(configs):\n",
    "            self.fields.append(SpatialTemporalDiffusionField(pos=config['pos'], field_size=config['size'], params=config['params'], \\\n",
    "                    map_size=size, n_timesteps=n_timesteps if use_snapshots else None))\n",
    "        self.set_timestep()\n",
    "    \n",
    "    def set_timestep(self, t=0):\n",
    "        self.isolated_field_states = np.array([self.fields[i].snapshots[t] for i in range(len(self.fields))])\n",
    "        self.env_field = np.sum(self.isolated_field_states, axis=0)\n",
    "        \n",
    "    def get_single_field(self, idx=0):\n",
    "        if (idx>=0) and (idx<len(self.fields)):\n",
    "            return self.isolated_field_states[idx]\n",
    "        else:\n",
    "            return None"
   ]
  },
  {
   "cell_type": "code",
   "execution_count": 144,
   "id": "c6310c56-21cc-43a6-977f-50943f98443f",
   "metadata": {
    "tags": []
   },
   "outputs": [],
   "source": [
    "configs = [\n",
    "    {'pos': (50,50), 'size': 30, 'params': [1.0, 1.0, 0.25, 0.25, 1, 0.25]},\n",
    "    # {'pos': (75,75), 'size': 30, 'params': [1.0, 1.0, 0.0, 0.0, 1, 0.25]},\n",
    "]\n",
    "\n",
    "env = SpatialTemporalDiffusionEnvironment(configs=configs)"
   ]
  },
  {
   "cell_type": "code",
   "execution_count": null,
   "id": "88798082-4b55-40e2-97ac-936fa6e57ae6",
   "metadata": {},
   "outputs": [],
   "source": []
  },
  {
   "cell_type": "code",
   "execution_count": null,
   "id": "71e65a53-92d4-484e-9ea8-ad0576521778",
   "metadata": {},
   "outputs": [],
   "source": []
  },
  {
   "cell_type": "code",
   "execution_count": null,
   "id": "4cdc8d75-595b-4478-95b4-d1c70a06cc93",
   "metadata": {},
   "outputs": [],
   "source": []
  }
 ],
 "metadata": {
  "kernelspec": {
   "display_name": "Python 3 (ipykernel)",
   "language": "python",
   "name": "python3"
  },
  "language_info": {
   "codemirror_mode": {
    "name": "ipython",
    "version": 3
   },
   "file_extension": ".py",
   "mimetype": "text/x-python",
   "name": "python",
   "nbconvert_exporter": "python",
   "pygments_lexer": "ipython3",
   "version": "3.8.6"
  }
 },
 "nbformat": 4,
 "nbformat_minor": 5
}
