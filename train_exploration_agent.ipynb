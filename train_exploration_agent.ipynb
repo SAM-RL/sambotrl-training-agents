{
 "cells": [
  {
   "cell_type": "code",
   "execution_count": 57,
   "id": "c34d1886-ba7d-4c5c-9b4f-a1536b14effa",
   "metadata": {},
   "outputs": [],
   "source": [
    "from collections import OrderedDict\n",
    "import gym\n",
    "from gym import error, spaces, utils\n",
    "from gym.utils import seeding\n",
    "import numpy as np\n",
    "import matplotlib.pyplot as plt\n",
    "import matplotlib.patches as patches\n",
    "import copy\n",
    "import time\n",
    "import scipy.io as io\n",
    "import random\n",
    "import os\n",
    "import pickle\n",
    "from sklearn.cluster import KMeans\n",
    "\n",
    "from spatial_diffusion_field import SpatialDiffusionField, AgentField\n",
    "\n",
    "\n",
    "ACTION_MAP = {\n",
    "    0:\"left\",1:\"right\",2:\"up\",3:\"down\", \\\n",
    "    4:\"up-left\",5:\"up-right\",6:\"down-left\",7:\"down-right\"\n",
    "}\n",
    "\n",
    "ACTIONS = [\"left\", \"right\", \"up\", \"down\", \\\n",
    "            \"up-left\", \"up-right\", \"down-left\", \"down-right\"]\n",
    "\n",
    "ACTION_OFFSET = [[-1,0],[1,0],[0,-1],[0,1],[-1,-1],[1,-1],[-1,1],[1,1]]\n",
    "\n",
    "class BlankFieldEnv(gym.Env):\n",
    "    def __init__(self, max_num_steps=100):\n",
    "        metadata = {'render.modes': ['human']}\n",
    "        super(BlankFieldEnv, self).__init__()\n",
    "                    \n",
    "        self.max_num_steps = max_num_steps\n",
    "        \n",
    "        # Env Field\n",
    "        self.size = 10\n",
    "        self.field = np.ones((10,10), dtype=np.float64) * (-1)\n",
    "        indices = np.argwhere(self.field == -1)\n",
    "        self.centroids = KMeans(n_clusters=5, random_state=0).fit(indices).cluster_centers_[:,::-1]\n",
    "        print(self.centroids)\n",
    "\n",
    "        # Agent Field related params/variables\n",
    "        self.num_steps = 0\n",
    "        self.agent_position = None\n",
    "        self.agent_trajectory = []\n",
    "\n",
    "        # Action Space\n",
    "        self.action_space_map = ACTION_MAP\n",
    "        self.actions = ACTIONS\n",
    "        self.action_space = spaces.Discrete(8)\n",
    "\n",
    "        # Environment Observation space\n",
    "        # self.observation_space = spaces.Box(low=0, high=255, shape=(self.size, self.size, 1), dtype=np.uint8)    \n",
    "        self.observation_space = spaces.Box(low=-1, high=1, shape=(100,), dtype=np.float32,)    \n",
    "\n",
    "    def step(self, action_id):\n",
    "        assert self.action_space.contains(action_id), \"Action is invalid!\"\n",
    "        (next_position, hit_wall, revisit) = self.get_next_position(action_id)\n",
    "\n",
    "        # Update number of steps\n",
    "        self.num_steps += 1\n",
    "\n",
    "        # Get any observations\n",
    "        observations = {\"location\": next_position}\n",
    "\n",
    "        # Update agent variables\n",
    "        self.field[self.agent_position[1],self.agent_position[0]] = 1\n",
    "        self.field[next_position[1],next_position[0]] = 0\n",
    "        self.agent_position = next_position\n",
    "        self.agent_trajectory.append(self.agent_position)\n",
    "        self.update_min_distances(self.agent_position)\n",
    "        # self.total_min_distances = self.total_min_distances - np.sum(self.min_distances)\n",
    "        # Check for termination criteria\n",
    "        done = (self.num_steps >= self.max_num_steps)\n",
    "        reward = self.calculate_step_reward()\n",
    "        \n",
    "        # Record field values\n",
    "        # next_state = np.expand_dims(self.field, axis=-1)\n",
    "        next_state = self.field.flatten()\n",
    "        return (next_state, reward, done, observations)\n",
    "\n",
    "    def reset(self):\n",
    "        # Reset agent related params\n",
    "        self.num_steps = 0\n",
    "        self.agent_position = self.choose_random_start_position()\n",
    "        self.field = np.ones((10,10), dtype=np.float64) * (-1)\n",
    "        self.field[self.agent_position[1], self.agent_position[0]]=0\n",
    "        self.agent_trajectory = []\n",
    "        self.min_distances = None\n",
    "        # self.total_min_distances = 0\n",
    "        self.update_min_distances(self.agent_position)\n",
    "        return self.field.flatten()\n",
    "    \n",
    "    def update_min_distances(self, pos):\n",
    "        distances = np.linalg.norm(self.centroids-pos, axis=1)\n",
    "        if self.min_distances is None:\n",
    "            self.min_distances = distances\n",
    "        else:\n",
    "            self.min_distances = np.minimum(self.min_distances, distances)\n",
    "\n",
    "    def choose_random_start_position(self):\n",
    "        possible_starts = [[0,0]]\n",
    "        return random.choice(possible_starts)\n",
    "\n",
    "    def get_next_position(self, action_id):\n",
    "        # Create a deepcopy of current state\n",
    "        next_state = copy.deepcopy(self.agent_position)\n",
    "        next_state = np.add(next_state, ACTION_OFFSET[action_id])\n",
    "\n",
    "        # Check for collisions\n",
    "        hit_wall = False\n",
    "        if ((next_state[0] < 0 or next_state[0] >= self.size) or\n",
    "            (next_state[1] < 0 or next_state[1] >= self.size)):\n",
    "            hit_wall = True\n",
    "        if not hit_wall:\n",
    "            revisit = self.field[next_state[1],next_state[0]]==-1\n",
    "        else:\n",
    "            revisit = False\n",
    "            next_state = self.agent_position\n",
    "        return (next_state, hit_wall, revisit)\n",
    "\n",
    "    def calculate_step_reward(self):\n",
    "        return -np.sum(self.min_distances)\n",
    "\n",
    "    def calculate_done_reward(self):\n",
    "        # min_distances_improvement = np.sum(np.linalg.norm(self.initial_min_distances-self.min_distances))\n",
    "        # return min_distances_improvement * 10\n",
    "        # return self.total_min_distances\n",
    "        return 0\n",
    "\n",
    "    def render(self, mode=\"human\"):\n",
    "        pass\n"
   ]
  },
  {
   "cell_type": "code",
   "execution_count": 58,
   "id": "9c8daa11-efb8-4f3d-bccf-0fcf3db7e2b5",
   "metadata": {
    "tags": []
   },
   "outputs": [],
   "source": [
    "import os\n",
    "import torch as th\n",
    "import torch.nn as nn\n",
    "from stable_baselines3.common.evaluation import evaluate_policy\n",
    "from stable_baselines3.common.callbacks import CheckpointCallback\n",
    "from stable_baselines3 import PPO\n",
    "from stable_baselines3.common.torch_layers import BaseFeaturesExtractor\n",
    "\n",
    "class CustomCNN(BaseFeaturesExtractor):\n",
    "    \"\"\"\n",
    "    :param observation_space: (gym.Space)\n",
    "    :param features_dim: (int) Number of features extracted.\n",
    "        This corresponds to the number of unit for the last layer.\n",
    "    \"\"\"\n",
    "\n",
    "    def __init__(self, observation_space: gym.spaces.Box, features_dim: int = 256):\n",
    "        super(CustomCNN, self).__init__(observation_space, features_dim)\n",
    "        n_input_channels = observation_space.shape[0]\n",
    "        self.cnn = nn.Sequential(\n",
    "            nn.Conv2d(n_input_channels, 32, kernel_size=4, stride=1, padding=0),\n",
    "            nn.ReLU(),\n",
    "            nn.Conv2d(32, 64, kernel_size=3, stride=1, padding=0),\n",
    "            nn.ReLU(),\n",
    "            nn.Flatten(),\n",
    "        )\n",
    "        with th.no_grad():\n",
    "            n_flatten = self.cnn(\n",
    "                th.as_tensor(observation_space.sample()[None]).float()\n",
    "            ).shape[1]\n",
    "\n",
    "        self.linear = nn.Sequential(nn.Linear(n_flatten, features_dim), nn.ReLU())\n",
    "\n",
    "    def forward(self, observations: th.Tensor) -> th.Tensor:\n",
    "        return self.linear(self.cnn(observations))\n",
    "    \n",
    "    \n",
    "class PPO_Agent:\n",
    "    def __init__(self, env, name='PPO', path='./output', load_saved_model=False):\n",
    "        self.env = env\n",
    "        self.name = name\n",
    "        self.model_path = os.path.join(path, name)\n",
    "        self.checkpoint_callback = CheckpointCallback(\n",
    "            save_freq=10000,\n",
    "            save_path=f\"./output/checkpoints/{name}/\",\n",
    "            name_prefix=self.name,\n",
    "            save_replay_buffer=True,\n",
    "            save_vecnormalize=True,\n",
    "        )\n",
    "        # self.policy_kwargs = dict(\n",
    "        #     features_extractor_class=CustomCNN,\n",
    "        #     features_extractor_kwargs=dict(features_dim=128),\n",
    "        # )\n",
    "        if load_saved_model and os.path.exists(self.model_path+'.zip'):\n",
    "            self.model = PPO.load(self.model_path, env=env)\n",
    "        else:        \n",
    "            self.model = PPO('MlpPolicy', env, verbose=0, tensorboard_log=\"./output/experiments/ppo_explore_tensorboard\")\n",
    "    \n",
    "    def train(self, n_timestep=40_000, eval=True):\n",
    "        self.model.learn(total_timesteps=n_timestep, progress_bar=False, callback=[self.checkpoint_callback])\n",
    "        self.model.save(self.model_path)\n",
    "        if eval:\n",
    "            mean_reward, std_reward = evaluate_policy(self.model, self.model.get_env(), n_eval_episodes=10)\n",
    "            print(f'Evaluation [{self.name}] ==> mean_reward: {mean_reward}, std_reward: {std_reward}')        \n",
    "\n",
    "    def predict(self, obs, lstm_state=None, start=False):\n",
    "        action, hidden_state  = self.model.predict(obs, state=lstm_state, episode_start=start)\n",
    "        return action, hidden_state"
   ]
  },
  {
   "cell_type": "code",
   "execution_count": 59,
   "id": "71c94af1-7ed5-48f5-a87d-73548aaf39dc",
   "metadata": {
    "tags": []
   },
   "outputs": [
    {
     "name": "stderr",
     "output_type": "stream",
     "text": [
      "/home/thinh/miniconda3/envs/dl/lib/python3.8/site-packages/sklearn/cluster/_kmeans.py:1412: FutureWarning: The default value of `n_init` will change from 10 to 'auto' in 1.4. Set the value of `n_init` explicitly to suppress the warning\n",
      "  super()._check_params_vs_input(X, default_n_init=10)\n",
      "/home/thinh/miniconda3/envs/dl/lib/python3.8/site-packages/stable_baselines3/common/vec_env/patch_gym.py:49: UserWarning: You provided an OpenAI Gym environment. We strongly recommend transitioning to Gymnasium environments. Stable-Baselines3 is automatically wrapping your environments in a compatibility layer, which could potentially cause issues.\n",
      "  warnings.warn(\n"
     ]
    },
    {
     "name": "stdout",
     "output_type": "stream",
     "text": [
      "[[4.0625     4.75      ]\n",
      " [7.22727273 1.77272727]\n",
      " [1.76190476 1.66666667]\n",
      " [7.22727273 7.22727273]\n",
      " [1.57894737 7.42105263]]\n",
      "Evaluation [PPO] ==> mean_reward: -336.792452, std_reward: 0.0\n"
     ]
    },
    {
     "data": {
      "image/png": "[encoded data removed]",
      "text/plain": [
       "<Figure size 640x480 with 1 Axes>"
      ]
     },
     "metadata": {},
     "output_type": "display_data"
    },
    {
     "data": {
      "image/png": "[encoded data removed]",
      "text/plain": [
       "<Figure size 640x480 with 1 Axes>"
      ]
     },
     "metadata": {},
     "output_type": "display_data"
    },
    {
     "data": {
      "image/png": "[encoded data removed]",
      "text/plain": [
       "<Figure size 640x480 with 1 Axes>"
      ]
     },
     "metadata": {},
     "output_type": "display_data"
    },
    {
     "data": {
      "image/png": "[encoded data removed]",
      "text/plain": [
       "<Figure size 640x480 with 1 Axes>"
      ]
     },
     "metadata": {},
     "output_type": "display_data"
    },
    {
     "data": {
      "image/png": "[encoded data removed]",
      "text/plain": [
       "<Figure size 640x480 with 1 Axes>"
      ]
     },
     "metadata": {},
     "output_type": "display_data"
    }
   ],
   "source": [
    "N_STEPS = 1_000_000\n",
    "TEST_EPISODES = 5\n",
    "\n",
    "# train & evaluate stable-baseline3 model\n",
    "env = BlankFieldEnv()\n",
    "model = PPO_Agent(env, path='./output/experiments/')\n",
    "model.train(n_timestep=N_STEPS)\n",
    "\n",
    "# evaluate\n",
    "for episode_num in range(TEST_EPISODES):\n",
    "    obs = env.reset()\n",
    "    done = True\n",
    "    steps = 0\n",
    "    while True:\n",
    "        action, hidden_state = model.predict(obs, start=done)\n",
    "        obs, reward, done, observation = env.step(action.item())\n",
    "        if done:\n",
    "            plt.imshow(env.field)\n",
    "            plt.show()\n",
    "            break\n",
    "        steps += 1"
   ]
  },
  {
   "cell_type": "code",
   "execution_count": 38,
   "id": "8bc4e054-8b8e-4428-a280-a40d01d2b6a6",
   "metadata": {
    "tags": []
   },
   "outputs": [
    {
     "data": {
      "text/plain": [
       "<matplotlib.image.AxesImage at 0x7f1abcf6d7f0>"
      ]
     },
     "execution_count": 38,
     "metadata": {},
     "output_type": "execute_result"
    },
    {
     "data": {
      "image/png": "[encoded data removed]",
      "text/plain": [
       "<Figure size 640x480 with 1 Axes>"
      ]
     },
     "metadata": {},
     "output_type": "display_data"
    }
   ],
   "source": [
    "plt.imshow(np.array([[-1,-1,0,0,1,1],[-1,-1,0,0,1,1]]))"
   ]
  },
  {
   "cell_type": "code",
   "execution_count": null,
   "id": "63f5938c-2139-42b5-938d-5212306aa509",
   "metadata": {},
   "outputs": [],
   "source": []
  }
 ],
 "metadata": {
  "kernelspec": {
   "display_name": "Python 3 (ipykernel)",
   "language": "python",
   "name": "python3"
  },
  "language_info": {
   "codemirror_mode": {
    "name": "ipython",
    "version": 3
   },
   "file_extension": ".py",
   "mimetype": "text/x-python",
   "name": "python",
   "nbconvert_exporter": "python",
   "pygments_lexer": "ipython3",
   "version": "3.8.6"
  }
 },
 "nbformat": 4,
 "nbformat_minor": 5
}
