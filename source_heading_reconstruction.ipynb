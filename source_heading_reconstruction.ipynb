{
 "cells": [
  {
   "cell_type": "code",
   "execution_count": null,
   "id": "7d7632c4-4786-4768-9f81-7e9429a8065d",
   "metadata": {},
   "outputs": [],
   "source": [
    "## Source Heading Component\n",
    "\n",
    "## Todo: Classes for Gradient, DQN, PPO\n",
    "\n",
    "## Todo: Analysis on their performances\n",
    "\n",
    "## Todo: Detect & maintain stationary state & estimating advection term"
   ]
  }
 ],
 "metadata": {
  "kernelspec": {
   "display_name": "Python 3 (ipykernel)",
   "language": "python",
   "name": "python3"
  },
  "language_info": {
   "codemirror_mode": {
    "name": "ipython",
    "version": 3
   },
   "file_extension": ".py",
   "mimetype": "text/x-python",
   "name": "python",
   "nbconvert_exporter": "python",
   "pygments_lexer": "ipython3",
   "version": "3.8.6"
  }
 },
 "nbformat": 4,
 "nbformat_minor": 5
}
